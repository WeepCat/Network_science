{
 "cells": [
  {
   "cell_type": "markdown",
   "id": "bcb46da3-5320-4bca-8033-872901c221cb",
   "metadata": {},
   "source": [
    "## 图表示学习代码\n",
    "\n",
    "虽然我们讲解了许多表示学习的方法，一种更简单的方法是：我们用数据集的标签来直接监督嵌入两两节点的嵌入。比如，使用边分类任务，我们通过最大化正边的两个节点的点积，我们也可以学习到一个很好的嵌入。\n",
    "\n",
    "下面，我们将通过边分类为正或负的任务，来完成一个节点表示/嵌入学习。\n",
    "\n",
    "我们将使用 Karate Club Network 空手道俱乐部网络，描述了空手道俱乐部 34 名成员的社交网络，并记录了在俱乐部外互动的成员之间的链接。"
   ]
  },
  {
   "cell_type": "code",
   "execution_count": null,
   "id": "66c05fb8-3686-4812-9c4e-d9bf8b74e16a",
   "metadata": {},
   "outputs": [],
   "source": [
    "import networkx as nx\n",
    "import torch\n",
    "import torch.nn as nn\n",
    "import matplotlib.pyplot as plt\n",
    "from sklearn.decomposition import PCA\n",
    "\n",
    "# 载入空手道俱乐部网络\n",
    "G = nx.karate_club_graph()\n",
    "# 可视化图\n",
    "nx.draw(G, with_labels = True)\n"
   ]
  }
 ],
 "metadata": {
  "kernelspec": {
   "display_name": "Python 3 (ipykernel)",
   "language": "python",
   "name": "python3"
  },
  "language_info": {
   "codemirror_mode": {
    "name": "ipython",
    "version": 3
   },
   "file_extension": ".py",
   "mimetype": "text/x-python",
   "name": "python",
   "nbconvert_exporter": "python",
   "pygments_lexer": "ipython3",
   "version": "3.10.14"
  }
 },
 "nbformat": 4,
 "nbformat_minor": 5
}
